{
  "nbformat": 4,
  "nbformat_minor": 0,
  "metadata": {
    "colab": {
      "provenance": []
    },
    "kernelspec": {
      "name": "python3",
      "display_name": "Python 3"
    },
    "language_info": {
      "name": "python"
    }
  },
  "cells": [
    {
      "cell_type": "code",
      "source": [
        "#Question 1\n",
        "# Given data\n",
        "pipeline_cost_no_peak = 14.39  # $/Mcf without peak shaving\n",
        "pipeline_cost_with_peak = 5.85  # $/Mcf with peak shaving\n",
        "mcf_without_peak = 304  # MMcf drawn from pipeline without peak shaving\n",
        "mcf_with_peak = 250  # MMcf drawn from pipeline with peak shaving\n",
        "mcf_from_CaLNG = 54  # MMcf purchased from CaLNG\n",
        "\n",
        "# Calculate cost without peak shaving\n",
        "total_cost_no_peak = mcf_without_peak * pipeline_cost_no_peak\n",
        "\n",
        "# Calculate cost with peak shaving\n",
        "total_cost_with_peak = mcf_with_peak * pipeline_cost_with_peak\n",
        "\n",
        "# Assume CaLNG's price per Mcf (this should be determined from actual contract or estimation)\n",
        "CaLNG_price_per_Mcf = 10.00  # Assume $10 per Mcf for now\n",
        "\n",
        "# Total cost including CaLNG\n",
        "total_cost_with_CaLNG = total_cost_with_peak + (mcf_from_CaLNG * CaLNG_price_per_Mcf)\n",
        "\n",
        "# Cost savings\n",
        "cost_savings = total_cost_no_peak - total_cost_with_CaLNG\n",
        "\n",
        "# Print results\n",
        "print(f\"Total cost without peak shaving: ${total_cost_no_peak:,.2f}\")\n",
        "print(f\"Total cost with peak shaving (including CaLNG purchase): ${total_cost_with_CaLNG:,.2f}\")\n",
        "print(f\"Cost savings from peak shaving: ${cost_savings:,.2f}\")\n",
        "\n",
        "# Decision-making\n",
        "if cost_savings > 0:\n",
        "    print(\"Peak shaving with CaLNG is beneficial.\")\n",
        "else:\n",
        "    print(\"Peak shaving with CaLNG is not cost-effective at this price.\")"
      ],
      "metadata": {
        "colab": {
          "base_uri": "https://localhost:8080/"
        },
        "id": "Q6nmBY6Q1gV0",
        "outputId": "7b43a111-5ab7-4158-b670-273ae254b154"
      },
      "execution_count": 4,
      "outputs": [
        {
          "output_type": "stream",
          "name": "stdout",
          "text": [
            "Total cost without peak shaving: $4,374.56\n",
            "Total cost with peak shaving (including CaLNG purchase): $2,002.50\n",
            "Cost savings from peak shaving: $2,372.06\n",
            "Peak shaving with CaLNG is beneficial.\n"
          ]
        }
      ]
    },
    {
      "cell_type": "code",
      "execution_count": 5,
      "metadata": {
        "colab": {
          "base_uri": "https://localhost:8080/"
        },
        "id": "KHi25aLZ1MJ1",
        "outputId": "41e806d6-94fe-4315-da54-2eeca4862079"
      },
      "outputs": [
        {
          "output_type": "stream",
          "name": "stdout",
          "text": [
            "18.535 3.6075 14.9275 12.980434782608697\n",
            "18.535 3.6075 14.9275 11.287334593572782\n",
            "18.535 3.6075 14.9275 9.815073559628505\n",
            "18.535 3.6075 14.9275 8.534846573590006\n",
            "18.535 3.6075 14.9275 7.421605716165223\n",
            "18.535 3.6075 14.9275 6.453570187969759\n",
            "18.535 3.6075 14.9275 5.6118001634519645\n",
            "18.535 3.6075 14.9275 4.879826229088666\n",
            "18.535 3.6075 14.9275 4.243327155729275\n",
            "12.885 2.195 10.69 2.642404508442746\n",
            "18.535 3.6075 14.9275 3.2085649570731767\n",
            "18.535 3.6075 14.9275 2.790056484411458\n",
            "18.535 3.6075 14.9275 2.426136073401268\n",
            "18.535 3.6075 14.9275 2.1096835420880593\n",
            "18.535 3.6075 14.9275 1.8345074279026603\n",
            "18.535 3.6075 14.9275 1.5952238503501397\n",
            "18.535 3.6075 14.9275 1.3871511742175127\n",
            "18.535 3.6075 14.9275 1.2062184123630546\n",
            "18.535 3.6075 14.9275 1.0488855759678737\n",
            "12.885 2.195 10.69 0.6531619818745135\n",
            "18.535 3.6075 14.9275 0.7931081859870502\n",
            "18.535 3.6075 14.9275 0.6896592921626524\n",
            "18.535 3.6075 14.9275 0.5997037323153499\n",
            "18.535 3.6075 14.9275 0.5214815063611739\n",
            "18.535 3.6075 14.9275 0.45346217944449907\n",
            "NPV for Centralized LNG Storage: $80.90 million\n"
          ]
        }
      ],
      "source": [
        "#Question 3\n",
        "time_horizon = 25\n",
        "\n",
        "# Financial Parameters\n",
        "discount_factor = 0.15\n",
        "annual_profit = 25.6  # Revenue per year\n",
        "depreciation_value = 4.105  # Depreciation per year\n",
        "tax_percentage = 0.25  # 25% tax rate\n",
        "\n",
        "# Trailer Costs\n",
        "operator_expense = 6.5  # Annual trailer + driver cost\n",
        "running_expense_per_unit = 0.005  # Individual trailer running cost\n",
        "procurement_expense_per_unit = 0.05  # Individual trailer purchase cost\n",
        "\n",
        "def compute_npv(time_horizon, base_tank_cost, total_trailers):\n",
        "    # Initial Capital Costs (in million dollars)\n",
        "    total_procurement_cost = total_trailers * procurement_expense_per_unit  # Total Trailer cost\n",
        "    initial_capital_outlay = base_tank_cost + total_procurement_cost  # Overall Initial Investment\n",
        "\n",
        "    # Replacement Costs (every 10 years)\n",
        "    renewal_expense = total_procurement_cost  # Replacement cost of trailers\n",
        "\n",
        "    # Residual Value at year 25 (50% of replacement cost)\n",
        "    salvage_value = renewal_expense * (time_horizon % 10)\n",
        "\n",
        "    # Compute Net Present Value (NPV)\n",
        "    npv_result = -initial_capital_outlay  # Start with negative initial investment\n",
        "\n",
        "    for year in range(1, time_horizon + 1):\n",
        "        # Account for trailer replacement every 10 years\n",
        "        capital_expense = renewal_expense if year % 10 == 0 else 0\n",
        "\n",
        "        # Compute Pre-tax and After-tax Cash Flow\n",
        "        yearly_operational_expense = operator_expense + (total_trailers * running_expense_per_unit)\n",
        "        pre_tax_flow = annual_profit - yearly_operational_expense - capital_expense\n",
        "        tax_deduction = tax_percentage * (pre_tax_flow - depreciation_value)\n",
        "        post_tax_flow = pre_tax_flow - tax_deduction\n",
        "\n",
        "        # Compute Discounted Cash Flow\n",
        "        present_value_cash_flow = post_tax_flow / ((1 + discount_factor) ** year)\n",
        "        print(pre_tax_flow, tax_deduction, post_tax_flow, present_value_cash_flow)\n",
        "        npv_result += present_value_cash_flow\n",
        "\n",
        "    # Discounted Residual Value at year 25\n",
        "    discounted_residual = salvage_value / ((1 + discount_factor) ** time_horizon)\n",
        "    npv_result += discounted_residual\n",
        "\n",
        "    return npv_result\n",
        "\n",
        "print(f\"NPV for Centralized LNG Storage: ${compute_npv(time_horizon, 9.5, 113):.2f} million\")\n",
        "\n",
        "\n"
      ]
    },
    {
      "cell_type": "code",
      "source": [
        "print(f\"NPV for Satellite LNG Storage: ${compute_npv(time_horizon, 79, 0):.2f} million\")"
      ],
      "metadata": {
        "colab": {
          "base_uri": "https://localhost:8080/"
        },
        "id": "5dtALFiw1Q0u",
        "outputId": "b9772850-69a4-4902-92dd-dda95275d5cf"
      },
      "execution_count": 6,
      "outputs": [
        {
          "output_type": "stream",
          "name": "stdout",
          "text": [
            "19.1 3.7487500000000002 15.35125 13.348913043478262\n",
            "19.1 3.7487500000000002 15.35125 11.607750472589794\n",
            "19.1 3.7487500000000002 15.35125 10.09369606312156\n",
            "19.1 3.7487500000000002 15.35125 8.777127011410053\n",
            "19.1 3.7487500000000002 15.35125 7.6322843577478725\n",
            "19.1 3.7487500000000002 15.35125 6.636769006737281\n",
            "19.1 3.7487500000000002 15.35125 5.771103484119376\n",
            "19.1 3.7487500000000002 15.35125 5.018350855755979\n",
            "19.1 3.7487500000000002 15.35125 4.363783352831287\n",
            "19.1 3.7487500000000002 15.35125 3.7945942198532934\n",
            "19.1 3.7487500000000002 15.35125 3.2996471476985163\n",
            "19.1 3.7487500000000002 15.35125 2.8692583893030577\n",
            "19.1 3.7487500000000002 15.35125 2.4950072950461375\n",
            "19.1 3.7487500000000002 15.35125 2.169571560909685\n",
            "19.1 3.7487500000000002 15.35125 1.8865839660084216\n",
            "19.1 3.7487500000000002 15.35125 1.6405077965290626\n",
            "19.1 3.7487500000000002 15.35125 1.4265285187209238\n",
            "19.1 3.7487500000000002 15.35125 1.2404595814964559\n",
            "19.1 3.7487500000000002 15.35125 1.078660505649092\n",
            "19.1 3.7487500000000002 15.35125 0.937965657086167\n",
            "19.1 3.7487500000000002 15.35125 0.8156223105097106\n",
            "19.1 3.7487500000000002 15.35125 0.7092367917475745\n",
            "19.1 3.7487500000000002 15.35125 0.6167276449978909\n",
            "19.1 3.7487500000000002 15.35125 0.5362849086938182\n",
            "19.1 3.7487500000000002 15.35125 0.4663347032120158\n",
            "NPV for Satellite LNG Storage: $20.23 million\n"
          ]
        }
      ]
    }
  ]
}